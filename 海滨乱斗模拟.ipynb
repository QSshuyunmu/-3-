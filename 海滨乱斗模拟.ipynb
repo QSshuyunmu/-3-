{
 "cells": [
  {
   "cell_type": "code",
   "execution_count": 4,
   "id": "902d3930",
   "metadata": {},
   "outputs": [],
   "source": [
    "import random\n",
    "import string"
   ]
  },
  {
   "cell_type": "markdown",
   "id": "5d646ec8",
   "metadata": {},
   "source": [
    "🐍vs华"
   ]
  },
  {
   "cell_type": "code",
   "execution_count": 74,
   "id": "297415d9",
   "metadata": {},
   "outputs": [
    {
     "data": {
      "text/plain": [
       "0.50706"
      ]
     },
     "execution_count": 74,
     "metadata": {},
     "output_type": "execute_result"
    }
   ],
   "source": [
    "result=[]\n",
    "for i in range(1,100000):\n",
    "        p1=[100,23,21,11];p2=[100,15,21,12]\n",
    "        #双方信息，p1为蛇，p2为华。数值依次为生命，速度，攻击，防御\n",
    "        iters=0;hunmi=0;ruoshui=0\n",
    "        #死亡判定\n",
    "        while(p1[0]>0 and p2[0]>0):\n",
    "            iters=iters+1\n",
    "            #蛇先手\n",
    "            if iters%3==0:\n",
    "                #蛇主动\n",
    "                p2[0]=p2[0]-int(0.8*max(33-p2[3],0))\n",
    "                #昏迷判定\n",
    "                hunmi=(random.randint(1,100)<=33)\n",
    "            else:\n",
    "                #蛇普攻\n",
    "                dmg=int(0.8*max(p1[2]-p2[3],0));p2[0]=p2[0]-dmg\n",
    "                #蛇被动判定\n",
    "                if dmg>0:\n",
    "                    p2[3]=max(p2[3]-(random.randint(1,100)<=33)*3,0)\n",
    "            #途中华死亡判定\n",
    "            if (p2[0]>0):\n",
    "                if ruoshui:\n",
    "                    p2[3]=max(p2[3]-3,0)\n",
    "                    ruoshui=0\n",
    "                    #若水效果结束减少所增加的防御\n",
    "                #昏迷判定\n",
    "                if hunmi==0:\n",
    "                    if iters%2==0:\n",
    "                        #华主动\n",
    "                        p2[3]=p2[3]+3\n",
    "                    else:\n",
    "                        if ruoshui:\n",
    "                            p1[0]=p1[0]-max(p2[2]-p1[3],0)-(random.randint(10,33))\n",
    "                        else:\n",
    "                            p1[0]=p1[0]-max(p2[2]-p1[3],0)\n",
    "                else:\n",
    "                    #昏迷状态结束\n",
    "                    hunmi=0\n",
    "        if p1[0]>p2[0]:\n",
    "            result.append(1)\n",
    "        else:\n",
    "            result.append(0)\n",
    "sum(result)/100000"
   ]
  },
  {
   "cell_type": "markdown",
   "id": "bb06f7a9",
   "metadata": {},
   "source": [
    "华vs爱丽"
   ]
  },
  {
   "cell_type": "code",
   "execution_count": 75,
   "id": "711d73fe",
   "metadata": {},
   "outputs": [
    {
     "data": {
      "text/plain": [
       "0.35909"
      ]
     },
     "execution_count": 75,
     "metadata": {},
     "output_type": "execute_result"
    }
   ],
   "source": [
    "result=[]\n",
    "for i in range(1,100000):\n",
    "        p1=[100,15,21,12];p2=[100,20,21,8]\n",
    "        #双方信息，p1为华，p2为爱莉。数值依次为生命，速度，攻击，防御\n",
    "        iters=0;ruoshui=0\n",
    "        #死亡判定\n",
    "        while(p1[0]>0 and p2[0]>0):\n",
    "            iters=iters+1\n",
    "            #爱莉先手\n",
    "            if iters%2==0:\n",
    "                #爱莉主动\n",
    "                p1[0]=p1[0]-int(0.8*max(random.randint(25,50)-p1[3],0)+(random.randint(1,100)<=35)*11)\n",
    "                #降低6点攻击\n",
    "                p1[2]=21-6\n",
    "            else:\n",
    "                #爱莉普攻\n",
    "                p1[0]=p1[0]-int(0.8*max(p2[2]-p1[3],0)+(random.randint(1,100)<=35)*11)\n",
    "            #途中华死亡判定\n",
    "            if (p1[0]>0):\n",
    "                #若水在回合外的效果结束，即减少所增加的防御\n",
    "                if ruoshui:\n",
    "                    p1[3]=max(p1[3]-3,0)\n",
    "                #华主动\n",
    "                if iters%2==0:\n",
    "                    p1[3]=p1[3]+3\n",
    "                    #上若水状态\n",
    "                    ruoshui=1;\n",
    "                else:\n",
    "                    if ruoshui:\n",
    "                        p2[0]=p2[0]-max(p1[2]-p2[3],0)-(random.randint(10,33))\n",
    "                        #若水在回合内的效果结束，此时若水状态消失\n",
    "                        ruoshui=0\n",
    "                    else:\n",
    "                        p2[0]=p2[0]-max(p1[2]-p2[3],0)\n",
    "                #爱莉主动失效，攻击力恢复\n",
    "                p1[2]=21\n",
    "        if p1[0]>p2[0]:\n",
    "            result.append(1)\n",
    "        else:\n",
    "            result.append(0)\n",
    "sum(result)/100000"
   ]
  },
  {
   "cell_type": "markdown",
   "id": "53f4e8c8",
   "metadata": {},
   "source": [
    "伊甸vs千劫"
   ]
  },
  {
   "cell_type": "code",
   "execution_count": 76,
   "id": "728cbb46",
   "metadata": {},
   "outputs": [
    {
     "data": {
      "text/plain": [
       "0.46653"
      ]
     },
     "execution_count": 76,
     "metadata": {},
     "output_type": "execute_result"
    }
   ],
   "source": [
    "result=[]\n",
    "for i in range(1,100000):\n",
    "        p1=[100,16,16,12];p2=[100,26,23,9]\n",
    "        #双方信息，p1为伊甸，p2为千劫。数值依次为生命，速度，攻击，防御\n",
    "        iters=0;fanmian=0;xiangong=0\n",
    "        #死亡判定\n",
    "        while(p1[0]>0 and p2[0]>0):\n",
    "            #判定伊甸是否先攻，若否则回合数+1\n",
    "            if xiangong==0:\n",
    "                iters=iters+1\n",
    "            #若伊甸已经进行过一个额外回合，则此时为了平衡回合数不增加iters，xiangong状态清0\n",
    "            #千劫先手\n",
    "            if (fanmian==0):\n",
    "                if (iters%3==0and p2[0]>=11):\n",
    "                    #千劫主动\n",
    "                    p2[0]=p2[0]-10\n",
    "                    p1[0]=p1[0]-max(45-p1[3],0)-random.randint(1,20)\n",
    "                    fanmian=1\n",
    "                else:\n",
    "                    #千劫普攻＆被动\n",
    "                    p1[0]=p1[0]-max(p2[2]+int((100-p2[0])/5)-p1[3],0)\n",
    "            else:\n",
    "                fanmian=0\n",
    "            #途中伊甸死亡判定,且若进行过一次先攻则跳过本回合\n",
    "            if (p1[0]>0 and xiangong==0):\n",
    "                #伊甸主动\n",
    "                if iters%2==0:\n",
    "                    p1[2]=p1[2]+4\n",
    "                    #主动内的一次普攻\n",
    "                    p2[0]=p2[0]-max(p1[2]-p2[3],0)-(random.randint(0,1))*max(p1[2]-p2[3],0)\n",
    "                    #添加先攻状态\n",
    "                    xiangong=1\n",
    "                else:\n",
    "                    #伊甸普攻\n",
    "                    p2[0]=p2[0]-max(p1[2]-p2[3],0)-(random.randint(0,1))*max(p1[2]-p2[3],0)\n",
    "                if xiangong:\n",
    "                    #与进行一个额外回合等效\n",
    "                    iters=iters+1\n",
    "                    if iters%2==0:\n",
    "                        p1[2]=p1[2]+3\n",
    "                        #主动内的一次普攻\n",
    "                        p2[0]=p2[0]-max(p1[2]-p2[3],0)-(random.randint(0,1))*max(p1[2]-p2[3],0)\n",
    "                        #添加先攻状态\n",
    "                        xiangong=1\n",
    "                    else:\n",
    "                        #伊甸普攻\n",
    "                        p2[0]=p2[0]-max(p1[2]-p2[3],0)-(random.randint(0,1))*max(p1[2]-p2[3],0)\n",
    "            else:\n",
    "                xiangong=0\n",
    "        if p1[0]>p2[0]:\n",
    "            result.append(1)\n",
    "        else:\n",
    "            result.append(0)\n",
    "sum(result)/100000"
   ]
  }
 ],
 "metadata": {
  "kernelspec": {
   "display_name": "Python 3 (ipykernel)",
   "language": "python",
   "name": "python3"
  },
  "language_info": {
   "codemirror_mode": {
    "name": "ipython",
    "version": 3
   },
   "file_extension": ".py",
   "mimetype": "text/x-python",
   "name": "python",
   "nbconvert_exporter": "python",
   "pygments_lexer": "ipython3",
   "version": "3.9.12"
  }
 },
 "nbformat": 4,
 "nbformat_minor": 5
}
